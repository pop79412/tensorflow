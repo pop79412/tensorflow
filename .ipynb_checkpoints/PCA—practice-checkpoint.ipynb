{
 "cells": [
  {
   "cell_type": "code",
   "execution_count": 1,
   "metadata": {},
   "outputs": [],
   "source": [
    "from sklearn.datasets import fetch_openml\n",
    "import matplotlib as mpl\n",
    "import matplotlib.pyplot as plt\n",
    "import numpy as np\n",
    "from sklearn.linear_model import SGDClassifier\n",
    "from sklearn.model_selection import StratifiedKFold\n",
    "from sklearn.base import clone\n",
    "from sklearn.model_selection import cross_val_predict\n",
    "from sklearn.metrics import precision_score,recall_score\n",
    "from sklearn.metrics import precision_recall_curve\n",
    "from sklearn.metrics import roc_curve\n",
    "from sklearn.preprocessing import StandardScaler\n",
    "from sklearn.model_selection import cross_val_score\n",
    "from sklearn.ensemble import RandomForestClassifier\n",
    "import time\n",
    "from sklearn.preprocessing import StandardScaler\n",
    "from sklearn.model_selection import cross_val_score\n",
    "from sklearn.decomposition import PCA"
   ]
  },
  {
   "cell_type": "code",
   "execution_count": 2,
   "metadata": {},
   "outputs": [],
   "source": [
    "mnist=fetch_openml('mnist_784',version=1)\n",
    "x,y=mnist[\"data\"],mnist[\"target\"]\n",
    "x_train,x_test,y_train,y_test=x[:60000],x[60000:],y[:60000],y[60000:]#前 後\n"
   ]
  },
  {
   "cell_type": "code",
   "execution_count": 3,
   "metadata": {},
   "outputs": [
    {
     "name": "stdout",
     "output_type": "stream",
     "text": [
      "no pca(sec): 22.81\n",
      "[0.82225 0.81255 0.83345]\n"
     ]
    }
   ],
   "source": [
    "#normal randomforest\n",
    "t1 = time.time()\n",
    "rnd_clf=RandomForestClassifier(n_estimators=500,max_leaf_nodes=16,n_jobs=-1\n",
    "                              )\n",
    "rnd_clf.fit(x_train,y_train)\n",
    "y_pred=rnd_clf.predict(x_test)\n",
    "t2 = time.time()\n",
    "print('no pca(sec): '+ str(round(t2-t1, 2)))\n",
    "score1=cross_val_score(rnd_clf,x_train,y_train,cv=3,scoring=\"accuracy\")\n",
    "print(score1)"
   ]
  },
  {
   "cell_type": "code",
   "execution_count": 7,
   "metadata": {},
   "outputs": [
    {
     "name": "stdout",
     "output_type": "stream",
     "text": [
      "use pca(sec): 102.37\n",
      "[0.8322 0.8284 0.8396]\n",
      "['3' '0' '7' ... '5' '6' '8']\n"
     ]
    }
   ],
   "source": [
    "#include pca\n",
    "scaler=StandardScaler()\n",
    "train_center=scaler.fit_transform(x_train.astype(np.float64))\n",
    "test_center=scaler.fit_transform(x_test.astype(np.float64))\n",
    "pca= PCA(n_components=0.95)\n",
    "xtrain_reduced=pca.fit_transform(train_center)\n",
    "xtest_reduced=pca.fit_transform(train_center)\n",
    "\n",
    "t1 = time.time()\n",
    "rnd_clf2=RandomForestClassifier(n_estimators=500,max_leaf_nodes=16,n_jobs=-1)\n",
    "rnd_clf2.fit(xtrain_reduced,y_train)\n",
    "\n",
    "\n",
    "#y_pred2=rnd_clf2.predict(xtest_reduced)\n",
    "t2 = time.time()\n",
    "\n",
    "print('use pca(sec): '+ str(round(t2-t1, 2)))\n",
    "score2=cross_val_score(rnd_clf2,xtrain_reduced,y_train,cv=3,scoring=\"accuracy\")\n",
    "print(score2)\n",
    "\n",
    "#print(y_pred2)"
   ]
  },
  {
   "cell_type": "code",
   "execution_count": null,
   "metadata": {},
   "outputs": [],
   "source": []
  }
 ],
 "metadata": {
  "kernelspec": {
   "display_name": "Python 3",
   "language": "python",
   "name": "python3"
  },
  "language_info": {
   "codemirror_mode": {
    "name": "ipython",
    "version": 3
   },
   "file_extension": ".py",
   "mimetype": "text/x-python",
   "name": "python",
   "nbconvert_exporter": "python",
   "pygments_lexer": "ipython3",
   "version": "3.5.2"
  }
 },
 "nbformat": 4,
 "nbformat_minor": 4
}
